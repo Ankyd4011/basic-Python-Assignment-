{
  "nbformat": 4,
  "nbformat_minor": 0,
  "metadata": {
    "colab": {
      "provenance": [],
      "authorship_tag": "ABX9TyNgrikAt/jxlBhqadWHcmMA",
      "include_colab_link": true
    },
    "kernelspec": {
      "name": "python3",
      "display_name": "Python 3"
    },
    "language_info": {
      "name": "python"
    }
  },
  "cells": [
    {
      "cell_type": "markdown",
      "metadata": {
        "id": "view-in-github",
        "colab_type": "text"
      },
      "source": [
        "<a href=\"https://colab.research.google.com/github/Ankyd4011/basic-Python-Assignment-/blob/main/Assignment_1.ipynb\" target=\"_parent\"><img src=\"https://colab.research.google.com/assets/colab-badge.svg\" alt=\"Open In Colab\"/></a>"
      ]
    },
    {
      "cell_type": "markdown",
      "source": [
        "# **Python : Assignment 1** \n"
      ],
      "metadata": {
        "id": "9k_wbzMRhsJx"
      }
    },
    {
      "cell_type": "markdown",
      "source": [
        " Q1 (i) adding elements"
      ],
      "metadata": {
        "id": "UFPb3a5wiQKR"
      }
    },
    {
      "cell_type": "code",
      "source": [
        "L = [11,12,13,14]\n"
      ],
      "metadata": {
        "id": "wbDBjMj0h86_"
      },
      "execution_count": null,
      "outputs": []
    },
    {
      "cell_type": "code",
      "source": [
        "print(\"original list : \",L)"
      ],
      "metadata": {
        "colab": {
          "base_uri": "https://localhost:8080/"
        },
        "id": "sGR5EL-ui4Su",
        "outputId": "0b02030d-11d1-4093-eb36-fd3c968127d0"
      },
      "execution_count": null,
      "outputs": [
        {
          "output_type": "stream",
          "name": "stdout",
          "text": [
            "original list :  [11, 12, 13, 14]\n"
          ]
        }
      ]
    },
    {
      "cell_type": "code",
      "source": [
        "L.append(60)\n",
        "L.append(50)\n"
      ],
      "metadata": {
        "id": "OAG7Qtvej8oc"
      },
      "execution_count": null,
      "outputs": []
    },
    {
      "cell_type": "code",
      "source": [
        "print(\"after adding numbers :\" ,L)"
      ],
      "metadata": {
        "colab": {
          "base_uri": "https://localhost:8080/"
        },
        "id": "l5AA8oc-lDcs",
        "outputId": "47d67d1b-597f-444b-ef82-9b8f92ec04f7"
      },
      "execution_count": null,
      "outputs": [
        {
          "output_type": "stream",
          "name": "stdout",
          "text": [
            "after adding numbers : [11, 12, 13, 14, 60, 50]\n"
          ]
        }
      ]
    },
    {
      "cell_type": "markdown",
      "source": [
        "(ii) removing elements"
      ],
      "metadata": {
        "id": "x6t--2Z-UUat"
      }
    },
    {
      "cell_type": "code",
      "source": [
        "L.remove(11)\n",
        "L.remove(13)"
      ],
      "metadata": {
        "id": "kj4Tgyl7qI7s"
      },
      "execution_count": null,
      "outputs": []
    },
    {
      "cell_type": "code",
      "source": [
        "print(\"list after removing 11 & 13 : \",L)"
      ],
      "metadata": {
        "colab": {
          "base_uri": "https://localhost:8080/"
        },
        "id": "RhQRBTY6mrcj",
        "outputId": "fad9b0d5-8a42-44a8-a37c-dd7af5053e02"
      },
      "execution_count": null,
      "outputs": [
        {
          "output_type": "stream",
          "name": "stdout",
          "text": [
            "list after removing 11 & 13 :  [12, 14, 60, 50]\n"
          ]
        }
      ]
    },
    {
      "cell_type": "markdown",
      "source": [
        "(iii) list in Ascending Order"
      ],
      "metadata": {
        "id": "bn6nlVSdUgIW"
      }
    },
    {
      "cell_type": "code",
      "source": [
        "L.sort() \n",
        "print(\"asc. ordered list : \" ,L)"
      ],
      "metadata": {
        "id": "l9j--wmznRdB",
        "colab": {
          "base_uri": "https://localhost:8080/"
        },
        "outputId": "d6b44164-f302-4381-bbc9-7d073f592f00"
      },
      "execution_count": null,
      "outputs": [
        {
          "output_type": "stream",
          "name": "stdout",
          "text": [
            "asc. ordered list :  [12, 14, 50, 60]\n"
          ]
        }
      ]
    },
    {
      "cell_type": "markdown",
      "source": [
        "(iv)"
      ],
      "metadata": {
        "id": "6_FyYOdvVusL"
      }
    },
    {
      "cell_type": "code",
      "source": [
        "L.sort(reverse =True)\n",
        "print(\"desc. ordered list : \",L)"
      ],
      "metadata": {
        "colab": {
          "base_uri": "https://localhost:8080/"
        },
        "id": "eGHdWWSPVuDE",
        "outputId": "b2cacd22-03f9-466d-e057-f39076dff0eb"
      },
      "execution_count": null,
      "outputs": [
        {
          "output_type": "stream",
          "name": "stdout",
          "text": [
            "desc. ordered list :  [60, 50, 14, 12]\n"
          ]
        }
      ]
    },
    {
      "cell_type": "markdown",
      "source": [
        "(v)"
      ],
      "metadata": {
        "id": "X1c4glHdW_NQ"
      }
    },
    {
      "cell_type": "code",
      "source": [
        "L.index(13) #since 13 is not in list it will show an error\n",
        "print(L)"
      ],
      "metadata": {
        "colab": {
          "base_uri": "https://localhost:8080/",
          "height": 183
        },
        "id": "d7HveiwEXB8G",
        "outputId": "31faff0e-f8e0-4628-fd14-cd6934ce9c57"
      },
      "execution_count": null,
      "outputs": [
        {
          "output_type": "error",
          "ename": "ValueError",
          "evalue": "ignored",
          "traceback": [
            "\u001b[0;31m---------------------------------------------------------------------------\u001b[0m",
            "\u001b[0;31mValueError\u001b[0m                                Traceback (most recent call last)",
            "\u001b[0;32m<ipython-input-48-c51f58595315>\u001b[0m in \u001b[0;36m<cell line: 1>\u001b[0;34m()\u001b[0m\n\u001b[0;32m----> 1\u001b[0;31m \u001b[0mL\u001b[0m\u001b[0;34m.\u001b[0m\u001b[0mindex\u001b[0m\u001b[0;34m(\u001b[0m\u001b[0;36m13\u001b[0m\u001b[0;34m)\u001b[0m \u001b[0;31m#since 13 is not in list it will show an error\u001b[0m\u001b[0;34m\u001b[0m\u001b[0;34m\u001b[0m\u001b[0m\n\u001b[0m\u001b[1;32m      2\u001b[0m \u001b[0mprint\u001b[0m\u001b[0;34m(\u001b[0m\u001b[0mL\u001b[0m\u001b[0;34m)\u001b[0m\u001b[0;34m\u001b[0m\u001b[0;34m\u001b[0m\u001b[0m\n",
            "\u001b[0;31mValueError\u001b[0m: 13 is not in list"
          ]
        }
      ]
    },
    {
      "cell_type": "markdown",
      "source": [
        "(vi)"
      ],
      "metadata": {
        "id": "NMDsn3poXTR5"
      }
    },
    {
      "cell_type": "code",
      "source": [
        "a=len(L)\n",
        "print(a)"
      ],
      "metadata": {
        "colab": {
          "base_uri": "https://localhost:8080/"
        },
        "id": "Tpbpu2dQXZ2B",
        "outputId": "c9618f95-f39c-43af-8bf6-954b1714e712"
      },
      "execution_count": null,
      "outputs": [
        {
          "output_type": "stream",
          "name": "stdout",
          "text": [
            "4\n"
          ]
        }
      ]
    },
    {
      "cell_type": "markdown",
      "source": [
        "(vii)"
      ],
      "metadata": {
        "id": "b5PkmrVoYNJs"
      }
    },
    {
      "cell_type": "code",
      "source": [
        "x=sum(L)\n",
        "print(x)"
      ],
      "metadata": {
        "colab": {
          "base_uri": "https://localhost:8080/"
        },
        "id": "T-zlkQBnYLuR",
        "outputId": "153b06a9-6f3b-4d6a-a528-65b8069b49f5"
      },
      "execution_count": null,
      "outputs": [
        {
          "output_type": "stream",
          "name": "stdout",
          "text": [
            "136\n"
          ]
        }
      ]
    },
    {
      "cell_type": "markdown",
      "source": [
        "(viii)"
      ],
      "metadata": {
        "id": "hlR6FmofZRnv"
      }
    },
    {
      "cell_type": "code",
      "source": [
        "for num in L:\n",
        "   if num % 2 != 0:\n",
        "      print(num, end = \" \")\n",
        "      b=sum(L)\n",
        "print(b)"
      ],
      "metadata": {
        "colab": {
          "base_uri": "https://localhost:8080/"
        },
        "id": "3eDtxR0LZNJs",
        "outputId": "5706c7dd-fbf3-4c4f-9d56-de5e10049a0d"
      },
      "execution_count": null,
      "outputs": [
        {
          "output_type": "stream",
          "name": "stdout",
          "text": [
            "136\n"
          ]
        }
      ]
    },
    {
      "cell_type": "markdown",
      "source": [
        "(ix)"
      ],
      "metadata": {
        "id": "yXAxgzEs13VG"
      }
    },
    {
      "cell_type": "code",
      "source": [],
      "metadata": {
        "id": "1nuKP2Ps192b"
      },
      "execution_count": null,
      "outputs": []
    },
    {
      "cell_type": "markdown",
      "source": [
        "(x)"
      ],
      "metadata": {
        "id": "j_b4p8iH2HUz"
      }
    },
    {
      "cell_type": "code",
      "source": [],
      "metadata": {
        "id": "1VlHa4dZ2ICN"
      },
      "execution_count": null,
      "outputs": []
    },
    {
      "cell_type": "markdown",
      "source": [
        "(xi)"
      ],
      "metadata": {
        "id": "3-65NeOw2JkT"
      }
    },
    {
      "cell_type": "code",
      "source": [
        "L.clear()\n",
        "print(L)"
      ],
      "metadata": {
        "colab": {
          "base_uri": "https://localhost:8080/"
        },
        "id": "nkXChZ-K2Nay",
        "outputId": "f85f1acc-aa60-42b8-d90e-2eb380d49ff8"
      },
      "execution_count": null,
      "outputs": [
        {
          "output_type": "stream",
          "name": "stdout",
          "text": [
            "[]\n"
          ]
        }
      ]
    },
    {
      "cell_type": "markdown",
      "source": [
        "(xii)"
      ],
      "metadata": {
        "id": "jwXcju0v2bm_"
      }
    },
    {
      "cell_type": "code",
      "source": [
        "del(L)\n",
        "print(L)"
      ],
      "metadata": {
        "colab": {
          "base_uri": "https://localhost:8080/",
          "height": 183
        },
        "id": "BTVTTvRS2eUE",
        "outputId": "fee79e58-d095-4fbc-a1cd-f8009e85c678"
      },
      "execution_count": null,
      "outputs": [
        {
          "output_type": "error",
          "ename": "NameError",
          "evalue": "ignored",
          "traceback": [
            "\u001b[0;31m---------------------------------------------------------------------------\u001b[0m",
            "\u001b[0;31mNameError\u001b[0m                                 Traceback (most recent call last)",
            "\u001b[0;32m<ipython-input-56-75aa0dd6f79f>\u001b[0m in \u001b[0;36m<cell line: 2>\u001b[0;34m()\u001b[0m\n\u001b[1;32m      1\u001b[0m \u001b[0;32mdel\u001b[0m\u001b[0;34m(\u001b[0m\u001b[0mL\u001b[0m\u001b[0;34m)\u001b[0m\u001b[0;34m\u001b[0m\u001b[0;34m\u001b[0m\u001b[0m\n\u001b[0;32m----> 2\u001b[0;31m \u001b[0mprint\u001b[0m\u001b[0;34m(\u001b[0m\u001b[0mL\u001b[0m\u001b[0;34m)\u001b[0m\u001b[0;34m\u001b[0m\u001b[0;34m\u001b[0m\u001b[0m\n\u001b[0m",
            "\u001b[0;31mNameError\u001b[0m: name 'L' is not defined"
          ]
        }
      ]
    },
    {
      "cell_type": "markdown",
      "source": [
        "Q2 1."
      ],
      "metadata": {
        "id": "C1s6ibyX8iZL"
      }
    },
    {
      "cell_type": "code",
      "source": [
        "D={1:5.6,2:7.8,3:6.6,4:8.7,5:7.7}"
      ],
      "metadata": {
        "id": "FKAysKj_2jwP"
      },
      "execution_count": null,
      "outputs": []
    },
    {
      "cell_type": "code",
      "source": [
        "D[8]=8.8\n",
        "print(D)"
      ],
      "metadata": {
        "colab": {
          "base_uri": "https://localhost:8080/"
        },
        "id": "vFOMLeIl__qd",
        "outputId": "351ef85e-c110-4070-e7c7-f68224dccbe0"
      },
      "execution_count": null,
      "outputs": [
        {
          "output_type": "stream",
          "name": "stdout",
          "text": [
            "{1: 5.6, 2: 7.8, 3: 6.6, 4: 8.7, 5: 7.7, 8: 8.8}\n"
          ]
        }
      ]
    },
    {
      "cell_type": "code",
      "source": [
        "del D[2]\n",
        "print(D)"
      ],
      "metadata": {
        "colab": {
          "base_uri": "https://localhost:8080/"
        },
        "id": "p5nSnkjrAFrA",
        "outputId": "3ba76749-40ea-426f-b982-d983b4dbf7d0"
      },
      "execution_count": null,
      "outputs": [
        {
          "output_type": "stream",
          "name": "stdout",
          "text": [
            "{1: 5.6, 3: 6.6, 4: 8.7, 5: 7.7, 8: 8.8}\n"
          ]
        }
      ]
    },
    {
      "cell_type": "code",
      "source": [
        "if 6 in D :\n",
        "  print(\"6 exists\")\n",
        "else: \n",
        "  print(\"dosen't exists\")"
      ],
      "metadata": {
        "id": "SlZt2-nRFYH2",
        "colab": {
          "base_uri": "https://localhost:8080/"
        },
        "outputId": "660f36be-c242-4015-9e47-826e57b132a4"
      },
      "execution_count": null,
      "outputs": [
        {
          "output_type": "stream",
          "name": "stdout",
          "text": [
            "dosen't exists\n"
          ]
        }
      ]
    },
    {
      "cell_type": "code",
      "source": [
        "len(D)"
      ],
      "metadata": {
        "colab": {
          "base_uri": "https://localhost:8080/"
        },
        "id": "qI2H6jYYM43V",
        "outputId": "46b264c2-8db8-4ba0-a940-31ec60c284f7"
      },
      "execution_count": null,
      "outputs": [
        {
          "output_type": "execute_result",
          "data": {
            "text/plain": [
              "5"
            ]
          },
          "metadata": {},
          "execution_count": 8
        }
      ]
    },
    {
      "cell_type": "code",
      "source": [
        "sum(D.values())"
      ],
      "metadata": {
        "colab": {
          "base_uri": "https://localhost:8080/"
        },
        "id": "NHQGReKTOWU-",
        "outputId": "a202615c-479e-4c3c-c42f-ebe9864cfefb"
      },
      "execution_count": null,
      "outputs": [
        {
          "output_type": "execute_result",
          "data": {
            "text/plain": [
              "37.4"
            ]
          },
          "metadata": {},
          "execution_count": 12
        }
      ]
    },
    {
      "cell_type": "code",
      "source": [
        "D[3]=7.1\n",
        "print(D)"
      ],
      "metadata": {
        "colab": {
          "base_uri": "https://localhost:8080/"
        },
        "id": "GD6SL5UwPPJo",
        "outputId": "ee3f4e38-58df-4c6f-aef8-60264b2360de"
      },
      "execution_count": null,
      "outputs": [
        {
          "output_type": "stream",
          "name": "stdout",
          "text": [
            "{1: 5.6, 3: 7.1, 4: 8.7, 5: 7.7, 8: 8.8}\n"
          ]
        }
      ]
    },
    {
      "cell_type": "code",
      "source": [
        "D.clear()\n",
        "print(D)"
      ],
      "metadata": {
        "colab": {
          "base_uri": "https://localhost:8080/"
        },
        "id": "SAqwF7NSYmZM",
        "outputId": "4528ef1e-46ed-43a7-ead6-57923955f443"
      },
      "execution_count": null,
      "outputs": [
        {
          "output_type": "stream",
          "name": "stdout",
          "text": [
            "{}\n"
          ]
        }
      ]
    },
    {
      "cell_type": "markdown",
      "source": [
        "Q3\n"
      ],
      "metadata": {
        "id": "IKif8mQ-aBvt"
      }
    },
    {
      "cell_type": "code",
      "source": [
        "s1=[10,20,30,40,50,60]\n",
        "s2=[40,50,60,70,80,90]\n",
        "\n"
      ],
      "metadata": {
        "id": "8pLQRJbXZsV3"
      },
      "execution_count": null,
      "outputs": []
    },
    {
      "cell_type": "code",
      "source": [
        "s1.append(55)\n",
        "s1.append(66)\n",
        "print(s1)"
      ],
      "metadata": {
        "colab": {
          "base_uri": "https://localhost:8080/"
        },
        "id": "f6Yl4Qr6aAld",
        "outputId": "a3f4418a-b252-4bb4-aa06-67c6e3855927"
      },
      "execution_count": null,
      "outputs": [
        {
          "output_type": "stream",
          "name": "stdout",
          "text": [
            "[10, 20, 30, 40, 50, 60, 55, 66]\n"
          ]
        }
      ]
    },
    {
      "cell_type": "code",
      "source": [
        "s1.remove(10)\n",
        "s1.remove(30)\n",
        "print(s1)"
      ],
      "metadata": {
        "colab": {
          "base_uri": "https://localhost:8080/"
        },
        "id": "_2_RFnG0aOFV",
        "outputId": "4ab5bfa4-a31c-414b-a5be-b83ecc6f4f3a"
      },
      "execution_count": null,
      "outputs": [
        {
          "output_type": "stream",
          "name": "stdout",
          "text": [
            "[20, 40, 50, 60, 55, 66]\n"
          ]
        }
      ]
    },
    {
      "cell_type": "code",
      "source": [
        "if 40 in s1:\n",
        "  print(\"exists\")\n",
        "else:\n",
        "  print(\"don't found\")"
      ],
      "metadata": {
        "colab": {
          "base_uri": "https://localhost:8080/"
        },
        "id": "84wHdcayacyJ",
        "outputId": "f69af85d-5b18-4133-ed8c-4e9579795195"
      },
      "execution_count": null,
      "outputs": [
        {
          "output_type": "stream",
          "name": "stdout",
          "text": [
            "exists\n"
          ]
        }
      ]
    },
    {
      "cell_type": "code",
      "source": [
        "s=s1+s2\n",
        "print(s)"
      ],
      "metadata": {
        "colab": {
          "base_uri": "https://localhost:8080/"
        },
        "id": "ZWYp_c44auXd",
        "outputId": "ee7680d4-d82e-49c2-c198-aaf5be4dc5ff"
      },
      "execution_count": null,
      "outputs": [
        {
          "output_type": "stream",
          "name": "stdout",
          "text": [
            "[20, 40, 50, 60, 55, 66, 40, 50, 60, 70, 80, 90]\n"
          ]
        }
      ]
    },
    {
      "cell_type": "code",
      "source": [
        "c= s1 and s2\n",
        "print(c)\n"
      ],
      "metadata": {
        "colab": {
          "base_uri": "https://localhost:8080/"
        },
        "id": "7NlMPZ5nbAe3",
        "outputId": "f5ecc124-aaa9-49e3-e791-c6872de5911f"
      },
      "execution_count": null,
      "outputs": [
        {
          "output_type": "stream",
          "name": "stdout",
          "text": [
            "[40, 50, 60, 70, 80, 90]\n"
          ]
        }
      ]
    },
    {
      "cell_type": "code",
      "source": [
        "result=[]\n",
        "for i, j in zip(s1,s2):\n",
        " \n",
        "    result.append(i - j)\n",
        " \n",
        "print(result)"
      ],
      "metadata": {
        "id": "hqRyVvLsdiP5",
        "colab": {
          "base_uri": "https://localhost:8080/"
        },
        "outputId": "e79ac9e4-fcf8-45e4-fee6-85fbb6b58e03"
      },
      "execution_count": null,
      "outputs": [
        {
          "output_type": "stream",
          "name": "stdout",
          "text": [
            "[-20, -10, -10, -10, -25, -24]\n"
          ]
        }
      ]
    },
    {
      "cell_type": "code",
      "source": [
        "import random as r\n",
        "import string as s\n",
        "for N in range(1,101):\n",
        "  print(''.join(r.choices(s.ascii_lowercase,k= r.randint(6,8))))\n"
      ],
      "metadata": {
        "colab": {
          "base_uri": "https://localhost:8080/"
        },
        "id": "3Ajtb_TKV6PQ",
        "outputId": "4305453f-f017-4e66-8dbf-9e365915388f"
      },
      "execution_count": null,
      "outputs": [
        {
          "output_type": "stream",
          "name": "stdout",
          "text": [
            "imupxhww\n",
            "dnrwuzdh\n",
            "kvbubql\n",
            "fmbwet\n",
            "ahbygz\n",
            "oupdnm\n",
            "xbinffx\n",
            "zcwjitsm\n",
            "xmliimo\n",
            "lgwideb\n",
            "qsnjsza\n",
            "wouduy\n",
            "firwol\n",
            "ynumqdhk\n",
            "salbll\n",
            "xzipdz\n",
            "voxjplzs\n",
            "gfgczmm\n",
            "lzyznuaj\n",
            "fucgnwsu\n",
            "drzyjmyj\n",
            "urcmex\n",
            "mhycnl\n",
            "wieeiz\n",
            "vqdrahw\n",
            "seeuzbob\n",
            "oxlbigoh\n",
            "nrmpdyv\n",
            "lizeml\n",
            "foucqzcw\n",
            "geijrb\n",
            "qjiuzj\n",
            "efztsw\n",
            "aqzhbkc\n",
            "lwgzkhid\n",
            "fjuxhi\n",
            "tvgtdpct\n",
            "vxhvtte\n",
            "zzzlub\n",
            "gqsvjcb\n",
            "xkeril\n",
            "rgczre\n",
            "rhoogna\n",
            "rcpqcw\n",
            "xxaacdxq\n",
            "nlcdjpwg\n",
            "jmqyxquj\n",
            "asbovf\n",
            "hbtbcppv\n",
            "gpvqgqk\n",
            "dotnpx\n",
            "qglpqwx\n",
            "onvaadtl\n",
            "btftuhev\n",
            "qmjdkhi\n",
            "xabnub\n",
            "bncuaywd\n",
            "qscstls\n",
            "kkvbpm\n",
            "zsmjjhog\n",
            "yzqhbty\n",
            "kmftmvnq\n",
            "kdlejq\n",
            "bhhrdu\n",
            "fdflktlu\n",
            "eyjaow\n",
            "fedpphjj\n",
            "utbicqf\n",
            "edzbfmj\n",
            "eojcpgh\n",
            "ozqhuyle\n",
            "jbvtovi\n",
            "vgqayp\n",
            "vtxtiig\n",
            "wubyizf\n",
            "vpnbzrkp\n",
            "tglofn\n",
            "ktrrztdh\n",
            "pcewzpi\n",
            "jzdybel\n",
            "lpinks\n",
            "wsvroc\n",
            "ohfeowh\n",
            "gxkqbuln\n",
            "ymazbbm\n",
            "qklfpje\n",
            "nouzjdw\n",
            "qgthvivh\n",
            "zmdsgza\n",
            "ogodtcqh\n",
            "lcmxmal\n",
            "vgjhyjak\n",
            "nmxiop\n",
            "wxdnvn\n",
            "gqmpyo\n",
            "gvqpklw\n",
            "upojmotw\n",
            "exvueiop\n",
            "umpnxg\n",
            "zybllezz\n"
          ]
        }
      ]
    },
    {
      "cell_type": "code",
      "source": [
        "for n in range (600,801):\n",
        "  if n > 1:\n",
        "       for i in range(2, n):\n",
        "           if (n % i) == 0:\n",
        "               break\n",
        "       else:\n",
        "           print(n)\n"
      ],
      "metadata": {
        "colab": {
          "base_uri": "https://localhost:8080/"
        },
        "id": "RtxmykyrYHT_",
        "outputId": "3153c945-4556-4fc8-8ce5-e456ee61f02c"
      },
      "execution_count": null,
      "outputs": [
        {
          "output_type": "stream",
          "name": "stdout",
          "text": [
            "601\n",
            "607\n",
            "613\n",
            "617\n",
            "619\n",
            "631\n",
            "641\n",
            "643\n",
            "647\n",
            "653\n",
            "659\n",
            "661\n",
            "673\n",
            "677\n",
            "683\n",
            "691\n",
            "701\n",
            "709\n",
            "719\n",
            "727\n",
            "733\n",
            "739\n",
            "743\n",
            "751\n",
            "757\n",
            "761\n",
            "769\n",
            "773\n",
            "787\n",
            "797\n"
          ]
        }
      ]
    },
    {
      "cell_type": "code",
      "source": [
        "for n in range (100,1001):\n",
        "  if n%7==0 or n%10==0:\n",
        "    print(n)\n",
        "    "
      ],
      "metadata": {
        "id": "IMBQOq0Qdp1R",
        "colab": {
          "base_uri": "https://localhost:8080/"
        },
        "outputId": "7b22ed6d-ccee-4cf0-b1ce-590817f8a2bb"
      },
      "execution_count": null,
      "outputs": [
        {
          "output_type": "stream",
          "name": "stdout",
          "text": [
            "100\n",
            "105\n",
            "110\n",
            "112\n",
            "119\n",
            "120\n",
            "126\n",
            "130\n",
            "133\n",
            "140\n",
            "147\n",
            "150\n",
            "154\n",
            "160\n",
            "161\n",
            "168\n",
            "170\n",
            "175\n",
            "180\n",
            "182\n",
            "189\n",
            "190\n",
            "196\n",
            "200\n",
            "203\n",
            "210\n",
            "217\n",
            "220\n",
            "224\n",
            "230\n",
            "231\n",
            "238\n",
            "240\n",
            "245\n",
            "250\n",
            "252\n",
            "259\n",
            "260\n",
            "266\n",
            "270\n",
            "273\n",
            "280\n",
            "287\n",
            "290\n",
            "294\n",
            "300\n",
            "301\n",
            "308\n",
            "310\n",
            "315\n",
            "320\n",
            "322\n",
            "329\n",
            "330\n",
            "336\n",
            "340\n",
            "343\n",
            "350\n",
            "357\n",
            "360\n",
            "364\n",
            "370\n",
            "371\n",
            "378\n",
            "380\n",
            "385\n",
            "390\n",
            "392\n",
            "399\n",
            "400\n",
            "406\n",
            "410\n",
            "413\n",
            "420\n",
            "427\n",
            "430\n",
            "434\n",
            "440\n",
            "441\n",
            "448\n",
            "450\n",
            "455\n",
            "460\n",
            "462\n",
            "469\n",
            "470\n",
            "476\n",
            "480\n",
            "483\n",
            "490\n",
            "497\n",
            "500\n",
            "504\n",
            "510\n",
            "511\n",
            "518\n",
            "520\n",
            "525\n",
            "530\n",
            "532\n",
            "539\n",
            "540\n",
            "546\n",
            "550\n",
            "553\n",
            "560\n",
            "567\n",
            "570\n",
            "574\n",
            "580\n",
            "581\n",
            "588\n",
            "590\n",
            "595\n",
            "600\n",
            "602\n",
            "609\n",
            "610\n",
            "616\n",
            "620\n",
            "623\n",
            "630\n",
            "637\n",
            "640\n",
            "644\n",
            "650\n",
            "651\n",
            "658\n",
            "660\n",
            "665\n",
            "670\n",
            "672\n",
            "679\n",
            "680\n",
            "686\n",
            "690\n",
            "693\n",
            "700\n",
            "707\n",
            "710\n",
            "714\n",
            "720\n",
            "721\n",
            "728\n",
            "730\n",
            "735\n",
            "740\n",
            "742\n",
            "749\n",
            "750\n",
            "756\n",
            "760\n",
            "763\n",
            "770\n",
            "777\n",
            "780\n",
            "784\n",
            "790\n",
            "791\n",
            "798\n",
            "800\n",
            "805\n",
            "810\n",
            "812\n",
            "819\n",
            "820\n",
            "826\n",
            "830\n",
            "833\n",
            "840\n",
            "847\n",
            "850\n",
            "854\n",
            "860\n",
            "861\n",
            "868\n",
            "870\n",
            "875\n",
            "880\n",
            "882\n",
            "889\n",
            "890\n",
            "896\n",
            "900\n",
            "903\n",
            "910\n",
            "917\n",
            "920\n",
            "924\n",
            "930\n",
            "931\n",
            "938\n",
            "940\n",
            "945\n",
            "950\n",
            "952\n",
            "959\n",
            "960\n",
            "966\n",
            "970\n",
            "973\n",
            "980\n",
            "987\n",
            "990\n",
            "994\n",
            "1000\n"
          ]
        }
      ]
    },
    {
      "cell_type": "code",
      "source": [
        "import random\n",
        "lis1 = []\n",
        "for _ in range(10):\n",
        "    lis1.append(random.randint(10,30))\n",
        "print(lis1)\n",
        "lis2 = []\n",
        "for _ in range(10):\n",
        "    lis2.append(random.randint(10,30))\n",
        "print(lis2)"
      ],
      "metadata": {
        "id": "Umcd479jKAgo",
        "colab": {
          "base_uri": "https://localhost:8080/"
        },
        "outputId": "ef74b8f8-95dd-4220-8833-e4a534bf7df7"
      },
      "execution_count": null,
      "outputs": [
        {
          "output_type": "stream",
          "name": "stdout",
          "text": [
            "[11, 20, 23, 17, 17, 26, 30, 25, 22, 14]\n",
            "[10, 27, 11, 21, 25, 30, 20, 12, 19, 12]\n"
          ]
        }
      ]
    },
    {
      "cell_type": "code",
      "source": [
        "def intersection(list1,list2):\n",
        "  list3=[value for value in list1 if value in list2]\n",
        "  return list3\n",
        "\n",
        "print(intersection(lis1,lis2))\n"
      ],
      "metadata": {
        "colab": {
          "base_uri": "https://localhost:8080/"
        },
        "id": "ozrHO_blrBTt",
        "outputId": "a345787d-7b6a-467a-d930-8054499d3619"
      },
      "execution_count": null,
      "outputs": [
        {
          "output_type": "stream",
          "name": "stdout",
          "text": [
            "[11, 20, 30, 25]\n"
          ]
        }
      ]
    },
    {
      "cell_type": "code",
      "source": [
        "c = lis1+lis2\n",
        "print(c)"
      ],
      "metadata": {
        "id": "Uhrb7zPkwpwI",
        "colab": {
          "base_uri": "https://localhost:8080/"
        },
        "outputId": "2c7d8f05-f6e2-49ca-e216-488da7da8d49"
      },
      "execution_count": null,
      "outputs": [
        {
          "output_type": "stream",
          "name": "stdout",
          "text": [
            "[11, 20, 23, 17, 17, 26, 30, 25, 22, 14, 10, 27, 11, 21, 25, 30, 20, 12, 19, 12]\n"
          ]
        }
      ]
    },
    {
      "cell_type": "code",
      "source": [
        "list(set(lis1).symmetric_difference(set(lis2)))\n",
        "      "
      ],
      "metadata": {
        "colab": {
          "base_uri": "https://localhost:8080/"
        },
        "id": "A-iHv02EMfGn",
        "outputId": "c1e927c4-da00-4eba-c361-056bfd964540"
      },
      "execution_count": null,
      "outputs": [
        {
          "output_type": "execute_result",
          "data": {
            "text/plain": [
              "[10, 12, 14, 17, 19, 21, 22, 23, 26, 27]"
            ]
          },
          "metadata": {},
          "execution_count": 7
        }
      ]
    },
    {
      "cell_type": "code",
      "source": [
        "maximum = max(lis1+lis2)\n",
        "minimum = min(lis1+lis2)\n",
        "print(\"max :\",maximum)\n",
        "print(\"min :\",minimum)\n"
      ],
      "metadata": {
        "id": "pVgQoLeANiDs",
        "colab": {
          "base_uri": "https://localhost:8080/"
        },
        "outputId": "54723c19-685e-4588-f51f-ac804cd69215"
      },
      "execution_count": null,
      "outputs": [
        {
          "output_type": "stream",
          "name": "stdout",
          "text": [
            "max : 30\n",
            "min : 10\n"
          ]
        }
      ]
    },
    {
      "cell_type": "code",
      "source": [
        "res_list = []\n",
        "for i in range(0, len(lis1)):\n",
        "    res_list.append(lis1[i] + lis2[i])\n",
        "    \n",
        "print(res_list)\n",
        " "
      ],
      "metadata": {
        "colab": {
          "base_uri": "https://localhost:8080/"
        },
        "id": "kGWwolxb_pM3",
        "outputId": "d9d7bfca-052c-44db-f613-c8fd208ced5e"
      },
      "execution_count": null,
      "outputs": [
        {
          "output_type": "stream",
          "name": "stdout",
          "text": [
            "[21, 47, 34, 38, 42, 56, 50, 37, 41, 26]\n"
          ]
        }
      ]
    },
    {
      "cell_type": "code",
      "source": [
        "import random as r\n",
        "num=[]\n",
        "for i in range(100):\n",
        "   num.append(random.randint(100,900))\n",
        "   \n",
        "print(num,sep=\"   \")\n"
      ],
      "metadata": {
        "colab": {
          "base_uri": "https://localhost:8080/"
        },
        "id": "N2hkrTP7AsJ3",
        "outputId": "625cc619-ab5a-4f91-c962-8be5ed9ad980"
      },
      "execution_count": null,
      "outputs": [
        {
          "output_type": "stream",
          "name": "stdout",
          "text": [
            "[564, 115, 721, 247, 601, 224, 839, 616, 684, 318, 169, 895, 882, 526, 439, 556, 539, 337, 564, 110, 847, 171, 343, 549, 612, 664, 449, 890, 771, 455, 497, 225, 326, 807, 649, 817, 465, 233, 516, 465, 588, 838, 684, 468, 133, 471, 549, 558, 741, 213, 723, 777, 758, 467, 175, 389, 676, 478, 609, 558, 684, 406, 693, 501, 624, 780, 571, 550, 331, 249, 750, 895, 691, 350, 600, 129, 436, 313, 404, 537, 876, 451, 815, 882, 504, 419, 489, 650, 693, 470, 549, 211, 259, 112, 772, 664, 717, 307, 576, 874]\n"
          ]
        }
      ]
    },
    {
      "cell_type": "code",
      "source": [
        "for x in num:\n",
        "  if x%2 !=0:\n",
        "    print(x,end=\" \")\n"
      ],
      "metadata": {
        "colab": {
          "base_uri": "https://localhost:8080/"
        },
        "id": "JYRIQ2rCCG8b",
        "outputId": "ede061a2-002f-4e90-afb2-7151f70c8420"
      },
      "execution_count": null,
      "outputs": [
        {
          "output_type": "stream",
          "name": "stdout",
          "text": [
            "115 721 247 601 839 169 895 439 539 337 847 171 343 549 449 771 455 497 225 807 649 817 465 233 465 133 471 549 741 213 723 777 467 175 389 609 693 501 571 331 249 895 691 129 313 537 451 815 419 489 693 549 211 259 717 307 "
          ]
        }
      ]
    },
    {
      "cell_type": "code",
      "source": [
        "for y in num:\n",
        "  if y%2 ==0:\n",
        "    print(y,end=\" \")"
      ],
      "metadata": {
        "colab": {
          "base_uri": "https://localhost:8080/"
        },
        "id": "8Ffh-WYRFH6S",
        "outputId": "3d1e511b-c1c6-477e-a6ab-4f80172dd388"
      },
      "execution_count": null,
      "outputs": [
        {
          "output_type": "stream",
          "name": "stdout",
          "text": [
            "564 224 616 684 318 882 526 556 564 110 612 664 890 326 516 588 838 684 468 558 758 676 478 558 684 406 624 780 550 750 350 600 436 404 876 882 504 650 470 112 772 664 576 874 "
          ]
        }
      ]
    },
    {
      "cell_type": "code",
      "source": [
        "prime=[]\n",
        "for i in num:\n",
        "  c=0\n",
        "  for j in range(1,i):\n",
        "    if i%j==0:\n",
        "      c+=1\n",
        "  if c == 1:\n",
        "    prime.append(i)\n",
        "print(prime)"
      ],
      "metadata": {
        "colab": {
          "base_uri": "https://localhost:8080/"
        },
        "id": "leRdwnnrF-Eb",
        "outputId": "5982ae75-8383-43bd-c7b7-4a4aa4c8bef6"
      },
      "execution_count": null,
      "outputs": [
        {
          "output_type": "stream",
          "name": "stdout",
          "text": [
            "[601, 839, 439, 337, 449, 233, 467, 389, 571, 331, 691, 313, 419, 211, 307]\n"
          ]
        }
      ]
    },
    {
      "cell_type": "code",
      "source": [
        "D={1:\"One\",2:\"two\",3:\"three\",4:\"four\",5:\"five\"}\n"
      ],
      "metadata": {
        "id": "lz9-sKNQG3q3"
      },
      "execution_count": null,
      "outputs": []
    },
    {
      "cell_type": "code",
      "source": [
        "for i in D :\n",
        "   print( i, \"-\",D[i], sep = \" \")"
      ],
      "metadata": {
        "colab": {
          "base_uri": "https://localhost:8080/"
        },
        "id": "X_QixvagNFhj",
        "outputId": "5af047de-c366-4baf-9871-49132ed86f9b"
      },
      "execution_count": null,
      "outputs": [
        {
          "output_type": "stream",
          "name": "stdout",
          "text": [
            "1 - One\n",
            "2 - two\n",
            "3 - three\n",
            "4 - four\n",
            "5 - five\n"
          ]
        }
      ]
    },
    {
      "cell_type": "code",
      "source": [
        "f = open(\"myfile.txt\", \"w\")"
      ],
      "metadata": {
        "id": "iFImTM5SNNOW"
      },
      "execution_count": null,
      "outputs": []
    },
    {
      "cell_type": "code",
      "source": [
        "import pickle\n",
        "\n",
        "# Read dictionary pkl file\n",
        "with open('myfile.txt', 'w') as fp:\n",
        "    person = pickle.load(fp)\n",
        "    print('Person dictionary')\n",
        "    print(person)"
      ],
      "metadata": {
        "colab": {
          "base_uri": "https://localhost:8080/",
          "height": 235
        },
        "id": "QwvQxXIVQJnP",
        "outputId": "dab573ed-2579-4edd-d930-cd5b76e7713e"
      },
      "execution_count": null,
      "outputs": [
        {
          "output_type": "error",
          "ename": "UnsupportedOperation",
          "evalue": "ignored",
          "traceback": [
            "\u001b[0;31m---------------------------------------------------------------------------\u001b[0m",
            "\u001b[0;31mUnsupportedOperation\u001b[0m                      Traceback (most recent call last)",
            "\u001b[0;32m<ipython-input-36-42df1047266e>\u001b[0m in \u001b[0;36m<cell line: 4>\u001b[0;34m()\u001b[0m\n\u001b[1;32m      3\u001b[0m \u001b[0;31m# Read dictionary pkl file\u001b[0m\u001b[0;34m\u001b[0m\u001b[0;34m\u001b[0m\u001b[0m\n\u001b[1;32m      4\u001b[0m \u001b[0;32mwith\u001b[0m \u001b[0mopen\u001b[0m\u001b[0;34m(\u001b[0m\u001b[0;34m'myfile.txt'\u001b[0m\u001b[0;34m,\u001b[0m \u001b[0;34m'w'\u001b[0m\u001b[0;34m)\u001b[0m \u001b[0;32mas\u001b[0m \u001b[0mfp\u001b[0m\u001b[0;34m:\u001b[0m\u001b[0;34m\u001b[0m\u001b[0;34m\u001b[0m\u001b[0m\n\u001b[0;32m----> 5\u001b[0;31m     \u001b[0mperson\u001b[0m \u001b[0;34m=\u001b[0m \u001b[0mpickle\u001b[0m\u001b[0;34m.\u001b[0m\u001b[0mload\u001b[0m\u001b[0;34m(\u001b[0m\u001b[0mfp\u001b[0m\u001b[0;34m)\u001b[0m\u001b[0;34m\u001b[0m\u001b[0;34m\u001b[0m\u001b[0m\n\u001b[0m\u001b[1;32m      6\u001b[0m     \u001b[0mprint\u001b[0m\u001b[0;34m(\u001b[0m\u001b[0;34m'Person dictionary'\u001b[0m\u001b[0;34m)\u001b[0m\u001b[0;34m\u001b[0m\u001b[0;34m\u001b[0m\u001b[0m\n\u001b[1;32m      7\u001b[0m     \u001b[0mprint\u001b[0m\u001b[0;34m(\u001b[0m\u001b[0mperson\u001b[0m\u001b[0;34m)\u001b[0m\u001b[0;34m\u001b[0m\u001b[0;34m\u001b[0m\u001b[0m\n",
            "\u001b[0;31mUnsupportedOperation\u001b[0m: not readable"
          ]
        }
      ]
    },
    {
      "cell_type": "code",
      "source": [
        "myfile.write(str(D))\n",
        "myfile.close()\n",
        "myFile = open('sample.txt', 'r')\n",
        "print(\"The content of the file after saving the dictionary is:\")\n",
        "print(myfile.read())"
      ],
      "metadata": {
        "colab": {
          "base_uri": "https://localhost:8080/",
          "height": 235
        },
        "id": "dHcL7i2GQmZc",
        "outputId": "438f4318-4aab-4268-e25e-08acbb765df3"
      },
      "execution_count": null,
      "outputs": [
        {
          "output_type": "error",
          "ename": "NameError",
          "evalue": "ignored",
          "traceback": [
            "\u001b[0;31m---------------------------------------------------------------------------\u001b[0m",
            "\u001b[0;31mNameError\u001b[0m                                 Traceback (most recent call last)",
            "\u001b[0;32m<ipython-input-37-cf8506f6d689>\u001b[0m in \u001b[0;36m<cell line: 1>\u001b[0;34m()\u001b[0m\n\u001b[0;32m----> 1\u001b[0;31m \u001b[0mmyfile\u001b[0m\u001b[0;34m.\u001b[0m\u001b[0mwrite\u001b[0m\u001b[0;34m(\u001b[0m\u001b[0mstr\u001b[0m\u001b[0;34m(\u001b[0m\u001b[0mD\u001b[0m\u001b[0;34m)\u001b[0m\u001b[0;34m)\u001b[0m\u001b[0;34m\u001b[0m\u001b[0;34m\u001b[0m\u001b[0m\n\u001b[0m\u001b[1;32m      2\u001b[0m \u001b[0mmyfile\u001b[0m\u001b[0;34m.\u001b[0m\u001b[0mclose\u001b[0m\u001b[0;34m(\u001b[0m\u001b[0;34m)\u001b[0m\u001b[0;34m\u001b[0m\u001b[0;34m\u001b[0m\u001b[0m\n\u001b[1;32m      3\u001b[0m \u001b[0mmyFile\u001b[0m \u001b[0;34m=\u001b[0m \u001b[0mopen\u001b[0m\u001b[0;34m(\u001b[0m\u001b[0;34m'sample.txt'\u001b[0m\u001b[0;34m,\u001b[0m \u001b[0;34m'r'\u001b[0m\u001b[0;34m)\u001b[0m\u001b[0;34m\u001b[0m\u001b[0;34m\u001b[0m\u001b[0m\n\u001b[1;32m      4\u001b[0m \u001b[0mprint\u001b[0m\u001b[0;34m(\u001b[0m\u001b[0;34m\"The content of the file after saving the dictionary is:\"\u001b[0m\u001b[0;34m)\u001b[0m\u001b[0;34m\u001b[0m\u001b[0;34m\u001b[0m\u001b[0m\n\u001b[1;32m      5\u001b[0m \u001b[0mprint\u001b[0m\u001b[0;34m(\u001b[0m\u001b[0mmyfile\u001b[0m\u001b[0;34m.\u001b[0m\u001b[0mread\u001b[0m\u001b[0;34m(\u001b[0m\u001b[0;34m)\u001b[0m\u001b[0;34m)\u001b[0m\u001b[0;34m\u001b[0m\u001b[0;34m\u001b[0m\u001b[0m\n",
            "\u001b[0;31mNameError\u001b[0m: name 'myfile' is not defined"
          ]
        }
      ]
    },
    {
      "cell_type": "code",
      "source": [
        "L={\"one\",\"two\",\"three\",\"four\",\"five\"}"
      ],
      "metadata": {
        "id": "osWXM7tARbTI"
      },
      "execution_count": 42,
      "outputs": []
    },
    {
      "cell_type": "code",
      "source": [
        "for i in L: \n",
        "  print(len(L.keys(i)))"
      ],
      "metadata": {
        "colab": {
          "base_uri": "https://localhost:8080/",
          "height": 182
        },
        "id": "icRT6TeCW2-T",
        "outputId": "892d2d75-f88d-4480-933d-2b3ff7a9c046"
      },
      "execution_count": 43,
      "outputs": [
        {
          "output_type": "error",
          "ename": "AttributeError",
          "evalue": "ignored",
          "traceback": [
            "\u001b[0;31m---------------------------------------------------------------------------\u001b[0m",
            "\u001b[0;31mAttributeError\u001b[0m                            Traceback (most recent call last)",
            "\u001b[0;32m<ipython-input-43-8278ec399088>\u001b[0m in \u001b[0;36m<cell line: 1>\u001b[0;34m()\u001b[0m\n\u001b[1;32m      1\u001b[0m \u001b[0;32mfor\u001b[0m \u001b[0mi\u001b[0m \u001b[0;32min\u001b[0m \u001b[0mL\u001b[0m\u001b[0;34m:\u001b[0m\u001b[0;34m\u001b[0m\u001b[0;34m\u001b[0m\u001b[0m\n\u001b[0;32m----> 2\u001b[0;31m   \u001b[0mprint\u001b[0m\u001b[0;34m(\u001b[0m\u001b[0mlen\u001b[0m\u001b[0;34m(\u001b[0m\u001b[0mL\u001b[0m\u001b[0;34m.\u001b[0m\u001b[0mkeys\u001b[0m\u001b[0;34m(\u001b[0m\u001b[0mi\u001b[0m\u001b[0;34m)\u001b[0m\u001b[0;34m)\u001b[0m\u001b[0;34m)\u001b[0m\u001b[0;34m\u001b[0m\u001b[0;34m\u001b[0m\u001b[0m\n\u001b[0m",
            "\u001b[0;31mAttributeError\u001b[0m: 'set' object has no attribute 'keys'"
          ]
        }
      ]
    },
    {
      "cell_type": "code",
      "source": [
        "import string as s\n",
        "import random as r\n",
        "S= 10\n",
        "ran=\"\".join(r.choices(s.ascii_letters(),k=S))"
      ],
      "metadata": {
        "colab": {
          "base_uri": "https://localhost:8080/",
          "height": 200
        },
        "id": "q3BuWKBBXhps",
        "outputId": "9b3cc4bd-bd09-478f-be8f-af24b0e65f58"
      },
      "execution_count": 48,
      "outputs": [
        {
          "output_type": "error",
          "ename": "TypeError",
          "evalue": "ignored",
          "traceback": [
            "\u001b[0;31m---------------------------------------------------------------------------\u001b[0m",
            "\u001b[0;31mTypeError\u001b[0m                                 Traceback (most recent call last)",
            "\u001b[0;32m<ipython-input-48-9a339915b2a0>\u001b[0m in \u001b[0;36m<cell line: 4>\u001b[0;34m()\u001b[0m\n\u001b[1;32m      2\u001b[0m \u001b[0;32mimport\u001b[0m \u001b[0mrandom\u001b[0m \u001b[0;32mas\u001b[0m \u001b[0mr\u001b[0m\u001b[0;34m\u001b[0m\u001b[0;34m\u001b[0m\u001b[0m\n\u001b[1;32m      3\u001b[0m \u001b[0mS\u001b[0m\u001b[0;34m=\u001b[0m \u001b[0;36m10\u001b[0m\u001b[0;34m\u001b[0m\u001b[0;34m\u001b[0m\u001b[0m\n\u001b[0;32m----> 4\u001b[0;31m \u001b[0mran\u001b[0m\u001b[0;34m=\u001b[0m\u001b[0;34m\"\"\u001b[0m\u001b[0;34m.\u001b[0m\u001b[0mjoin\u001b[0m\u001b[0;34m(\u001b[0m\u001b[0mr\u001b[0m\u001b[0;34m.\u001b[0m\u001b[0mchoices\u001b[0m\u001b[0;34m(\u001b[0m\u001b[0ms\u001b[0m\u001b[0;34m.\u001b[0m\u001b[0mascii_letters\u001b[0m\u001b[0;34m(\u001b[0m\u001b[0;34m)\u001b[0m\u001b[0;34m,\u001b[0m\u001b[0mk\u001b[0m\u001b[0;34m=\u001b[0m\u001b[0mS\u001b[0m\u001b[0;34m)\u001b[0m\u001b[0;34m)\u001b[0m\u001b[0;34m\u001b[0m\u001b[0;34m\u001b[0m\u001b[0m\n\u001b[0m",
            "\u001b[0;31mTypeError\u001b[0m: 'str' object is not callable"
          ]
        }
      ]
    },
    {
      "cell_type": "code",
      "source": [],
      "metadata": {
        "id": "c9Kg8nZdbp7c"
      },
      "execution_count": null,
      "outputs": []
    }
  ]
}